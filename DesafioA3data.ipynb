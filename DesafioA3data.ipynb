{
 "cells": [
  {
   "cell_type": "code",
   "execution_count": 2,
   "id": "37aba0e0-2c3f-4096-a8b5-f3c8759b25a1",
   "metadata": {
    "tags": []
   },
   "outputs": [
    {
     "name": "stdout",
     "output_type": "stream",
     "text": [
      "Requirement already satisfied: requests in /opt/conda/lib/python3.10/site-packages (2.29.0)\n",
      "Requirement already satisfied: charset-normalizer<4,>=2 in /opt/conda/lib/python3.10/site-packages (from requests) (3.1.0)\n",
      "Requirement already satisfied: idna<4,>=2.5 in /opt/conda/lib/python3.10/site-packages (from requests) (3.4)\n",
      "Requirement already satisfied: urllib3<1.27,>=1.21.1 in /opt/conda/lib/python3.10/site-packages (from requests) (1.26.15)\n",
      "Requirement already satisfied: certifi>=2017.4.17 in /opt/conda/lib/python3.10/site-packages (from requests) (2023.5.7)\n",
      "Requirement already satisfied: pyspark in /usr/local/spark-3.4.0-bin-hadoop3/python (3.4.0)\n",
      "Requirement already satisfied: py4j==0.10.9.7 in /opt/conda/lib/python3.10/site-packages (from pyspark) (0.10.9.7)\n"
     ]
    }
   ],
   "source": [
    "!pip install requests\n",
    "!pip install pyspark"
   ]
  },
  {
   "cell_type": "code",
   "execution_count": 3,
   "id": "ae936b2c-69f3-4484-9391-025b49bb4c52",
   "metadata": {
    "tags": []
   },
   "outputs": [],
   "source": [
    "from pyspark.sql import SparkSession\n",
    "from pyspark.sql.functions import when, col, lower\n",
    "import requests\n",
    "import zipfile"
   ]
  },
  {
   "cell_type": "code",
   "execution_count": 4,
   "id": "138a45b8-c300-4450-91e3-614092863621",
   "metadata": {
    "tags": []
   },
   "outputs": [
    {
     "name": "stderr",
     "output_type": "stream",
     "text": [
      "/opt/conda/lib/python3.10/site-packages/urllib3/connectionpool.py:1045: InsecureRequestWarning: Unverified HTTPS request is being made to host 'download.inep.gov.br'. Adding certificate verification is strongly advised. See: https://urllib3.readthedocs.io/en/1.26.x/advanced-usage.html#ssl-warnings\n",
      "  warnings.warn(\n"
     ]
    }
   ],
   "source": [
    "spark = SparkSession.builder.appName(\"DesafioA3DATA\").getOrCreate()\n",
    "url = 'https://download.inep.gov.br/microdados/microdados_censo_da_educacao_superior_2021.zip'\n",
    "r = requests.get(url, verify=False)\n",
    "with open(\"r.zip\", \"wb\") as f:\n",
    " f.write(r.content)\n",
    " with zipfile.ZipFile(\"r.zip\" , \"r\") as zip_ref:\n",
    "  zip_ref.extractall(\"./data\")"
   ]
  },
  {
   "cell_type": "code",
   "execution_count": 8,
   "id": "fc68c127-6e6b-417f-9992-1f5f7a018240",
   "metadata": {
    "tags": []
   },
   "outputs": [],
   "source": [
    "df = spark.read.csv(\"data/Microdados do Censo da Educaç╞o Superior 2021/dados/MICRODADOS_CADASTRO_IES_2021.CSV\", sep=';', header=True, inferSchema=True)\n",
    "for col in df.columns:\n",
    "    df = df.withColumnRenamed(col, col.lower())"
   ]
  },
  {
   "cell_type": "code",
   "execution_count": 9,
   "id": "00a6af7e-5570-4c2a-b2b0-431e7849e19a",
   "metadata": {
    "tags": []
   },
   "outputs": [
    {
     "name": "stdout",
     "output_type": "stream",
     "text": [
      "root\n",
      " |-- nu_ano_censo: integer (nullable = true)\n",
      " |-- no_regiao_ies: string (nullable = true)\n",
      " |-- co_regiao_ies: integer (nullable = true)\n",
      " |-- no_uf_ies: string (nullable = true)\n",
      " |-- sg_uf_ies: string (nullable = true)\n",
      " |-- co_uf_ies: integer (nullable = true)\n",
      " |-- no_municipio_ies: string (nullable = true)\n",
      " |-- co_municipio_ies: integer (nullable = true)\n",
      " |-- in_capital_ies: integer (nullable = true)\n",
      " |-- no_mesorregiao_ies: string (nullable = true)\n",
      " |-- co_mesorregiao_ies: integer (nullable = true)\n",
      " |-- no_microrregiao_ies: string (nullable = true)\n",
      " |-- co_microrregiao_ies: integer (nullable = true)\n",
      " |-- tp_organizacao_academica: integer (nullable = true)\n",
      " |-- tp_categoria_administrativa: integer (nullable = true)\n",
      " |-- no_mantenedora: string (nullable = true)\n",
      " |-- co_mantenedora: integer (nullable = true)\n",
      " |-- co_ies: integer (nullable = true)\n",
      " |-- no_ies: string (nullable = true)\n",
      " |-- sg_ies: string (nullable = true)\n",
      " |-- ds_endereco_ies: string (nullable = true)\n",
      " |-- ds_numero_endereco_ies: string (nullable = true)\n",
      " |-- ds_complemento_endereco_ies: string (nullable = true)\n",
      " |-- no_bairro_ies: string (nullable = true)\n",
      " |-- nu_cep_ies: integer (nullable = true)\n",
      " |-- qt_tec_total: integer (nullable = true)\n",
      " |-- qt_tec_fundamental_incomp_fem: integer (nullable = true)\n",
      " |-- qt_tec_fundamental_incomp_masc: integer (nullable = true)\n",
      " |-- qt_tec_fundamental_comp_fem: integer (nullable = true)\n",
      " |-- qt_tec_fundamental_comp_masc: integer (nullable = true)\n",
      " |-- qt_tec_medio_fem: integer (nullable = true)\n",
      " |-- qt_tec_medio_masc: integer (nullable = true)\n",
      " |-- qt_tec_superior_fem: integer (nullable = true)\n",
      " |-- qt_tec_superior_masc: integer (nullable = true)\n",
      " |-- qt_tec_especializacao_fem: integer (nullable = true)\n",
      " |-- qt_tec_especializacao_masc: integer (nullable = true)\n",
      " |-- qt_tec_mestrado_fem: integer (nullable = true)\n",
      " |-- qt_tec_mestrado_masc: integer (nullable = true)\n",
      " |-- qt_tec_doutorado_fem: integer (nullable = true)\n",
      " |-- qt_tec_doutorado_masc: integer (nullable = true)\n",
      " |-- in_acesso_portal_capes: integer (nullable = true)\n",
      " |-- in_acesso_outras_bases: integer (nullable = true)\n",
      " |-- in_assina_outra_base: integer (nullable = true)\n",
      " |-- in_repositorio_institucional: integer (nullable = true)\n",
      " |-- in_busca_integrada: integer (nullable = true)\n",
      " |-- in_servico_internet: integer (nullable = true)\n",
      " |-- in_participa_rede_social: integer (nullable = true)\n",
      " |-- in_catalogo_online: integer (nullable = true)\n",
      " |-- qt_periodico_eletronico: integer (nullable = true)\n",
      " |-- qt_livro_eletronico: integer (nullable = true)\n",
      " |-- qt_doc_total: integer (nullable = true)\n",
      " |-- qt_doc_exe: integer (nullable = true)\n",
      " |-- qt_doc_ex_femi: integer (nullable = true)\n",
      " |-- qt_doc_ex_masc: integer (nullable = true)\n",
      " |-- qt_doc_ex_sem_grad: integer (nullable = true)\n",
      " |-- qt_doc_ex_grad: integer (nullable = true)\n",
      " |-- qt_doc_ex_esp: integer (nullable = true)\n",
      " |-- qt_doc_ex_mest: integer (nullable = true)\n",
      " |-- qt_doc_ex_dout: integer (nullable = true)\n",
      " |-- qt_doc_ex_int: integer (nullable = true)\n",
      " |-- qt_doc_ex_int_de: integer (nullable = true)\n",
      " |-- qt_doc_ex_int_sem_de: integer (nullable = true)\n",
      " |-- qt_doc_ex_parc: integer (nullable = true)\n",
      " |-- qt_doc_ex_hor: integer (nullable = true)\n",
      " |-- qt_doc_ex_0_29: integer (nullable = true)\n",
      " |-- qt_doc_ex_30_34: integer (nullable = true)\n",
      " |-- qt_doc_ex_35_39: integer (nullable = true)\n",
      " |-- qt_doc_ex_40_44: integer (nullable = true)\n",
      " |-- qt_doc_ex_45_49: integer (nullable = true)\n",
      " |-- qt_doc_ex_50_54: integer (nullable = true)\n",
      " |-- qt_doc_ex_55_59: integer (nullable = true)\n",
      " |-- qt_doc_ex_60_mais: integer (nullable = true)\n",
      " |-- qt_doc_ex_branca: integer (nullable = true)\n",
      " |-- qt_doc_ex_preta: integer (nullable = true)\n",
      " |-- qt_doc_ex_parda: integer (nullable = true)\n",
      " |-- qt_doc_ex_amarela: integer (nullable = true)\n",
      " |-- qt_doc_ex_indigena: integer (nullable = true)\n",
      " |-- qt_doc_ex_cor_nd: integer (nullable = true)\n",
      " |-- qt_doc_ex_bra: integer (nullable = true)\n",
      " |-- qt_doc_ex_est: integer (nullable = true)\n",
      " |-- qt_doc_ex_com_deficiencia: integer (nullable = true)\n",
      " |-- co_projeto: integer (nullable = true)\n",
      " |-- co_local_oferta: integer (nullable = true)\n",
      " |-- no_local_oferta: string (nullable = true)\n",
      "\n"
     ]
    }
   ],
   "source": [
    "df.printSchema()"
   ]
  },
  {
   "cell_type": "code",
   "execution_count": 10,
   "id": "5ec5e236-37e8-4c10-9c82-1e4717ef3166",
   "metadata": {
    "tags": []
   },
   "outputs": [
    {
     "name": "stdout",
     "output_type": "stream",
     "text": [
      "+------------+-------------+-------------+-----------------+---------+---------+----------------+----------------+--------------+--------------------+------------------+-------------------+-------------------+------------------------+---------------------------+--------------------+--------------+------+--------------------+------------+--------------------+----------------------+---------------------------+--------------------+----------+------------+-----------------------------+------------------------------+---------------------------+----------------------------+----------------+-----------------+-------------------+--------------------+-------------------------+--------------------------+-------------------+--------------------+--------------------+---------------------+----------------------+----------------------+--------------------+----------------------------+------------------+-------------------+------------------------+------------------+-----------------------+-------------------+------------+----------+--------------+--------------+------------------+--------------+-------------+--------------+--------------+-------------+----------------+--------------------+--------------+-------------+--------------+---------------+---------------+---------------+---------------+---------------+---------------+-----------------+----------------+---------------+---------------+-----------------+------------------+----------------+-------------+-------------+-------------------------+----------+---------------+--------------------+\n",
      "|nu_ano_censo|no_regiao_ies|co_regiao_ies|        no_uf_ies|sg_uf_ies|co_uf_ies|no_municipio_ies|co_municipio_ies|in_capital_ies|  no_mesorregiao_ies|co_mesorregiao_ies|no_microrregiao_ies|co_microrregiao_ies|tp_organizacao_academica|tp_categoria_administrativa|      no_mantenedora|co_mantenedora|co_ies|              no_ies|      sg_ies|     ds_endereco_ies|ds_numero_endereco_ies|ds_complemento_endereco_ies|       no_bairro_ies|nu_cep_ies|qt_tec_total|qt_tec_fundamental_incomp_fem|qt_tec_fundamental_incomp_masc|qt_tec_fundamental_comp_fem|qt_tec_fundamental_comp_masc|qt_tec_medio_fem|qt_tec_medio_masc|qt_tec_superior_fem|qt_tec_superior_masc|qt_tec_especializacao_fem|qt_tec_especializacao_masc|qt_tec_mestrado_fem|qt_tec_mestrado_masc|qt_tec_doutorado_fem|qt_tec_doutorado_masc|in_acesso_portal_capes|in_acesso_outras_bases|in_assina_outra_base|in_repositorio_institucional|in_busca_integrada|in_servico_internet|in_participa_rede_social|in_catalogo_online|qt_periodico_eletronico|qt_livro_eletronico|qt_doc_total|qt_doc_exe|qt_doc_ex_femi|qt_doc_ex_masc|qt_doc_ex_sem_grad|qt_doc_ex_grad|qt_doc_ex_esp|qt_doc_ex_mest|qt_doc_ex_dout|qt_doc_ex_int|qt_doc_ex_int_de|qt_doc_ex_int_sem_de|qt_doc_ex_parc|qt_doc_ex_hor|qt_doc_ex_0_29|qt_doc_ex_30_34|qt_doc_ex_35_39|qt_doc_ex_40_44|qt_doc_ex_45_49|qt_doc_ex_50_54|qt_doc_ex_55_59|qt_doc_ex_60_mais|qt_doc_ex_branca|qt_doc_ex_preta|qt_doc_ex_parda|qt_doc_ex_amarela|qt_doc_ex_indigena|qt_doc_ex_cor_nd|qt_doc_ex_bra|qt_doc_ex_est|qt_doc_ex_com_deficiencia|co_projeto|co_local_oferta|     no_local_oferta|\n",
      "+------------+-------------+-------------+-----------------+---------+---------+----------------+----------------+--------------+--------------------+------------------+-------------------+-------------------+------------------------+---------------------------+--------------------+--------------+------+--------------------+------------+--------------------+----------------------+---------------------------+--------------------+----------+------------+-----------------------------+------------------------------+---------------------------+----------------------------+----------------+-----------------+-------------------+--------------------+-------------------------+--------------------------+-------------------+--------------------+--------------------+---------------------+----------------------+----------------------+--------------------+----------------------------+------------------+-------------------+------------------------+------------------+-----------------------+-------------------+------------+----------+--------------+--------------+------------------+--------------+-------------+--------------+--------------+-------------+----------------+--------------------+--------------+-------------+--------------+---------------+---------------+---------------+---------------+---------------+---------------+-----------------+----------------+---------------+---------------+-----------------+------------------+----------------+-------------+-------------+-------------------------+----------+---------------+--------------------+\n",
      "|        2021| Centro-Oeste|            5|      Mato Grosso|       MT|       51|          Cuiab�|         5103403|             1|Centro-Sul Mato-g...|                 4|             Cuiab�|                 17|                       1|                          1|FUNDACAO UNIVERSI...|             1|     1|UNIVERSIDADE FEDE...|        UFMT|Avenida Fernando ...|                  2367|       Cidade Universit�ria|       Boa Esperan�a|  78060900|        1344|                            4|                            15|                          5|                          14|              49|               93|                112|                 136|                      306|                       295|                158|                  96|                  34|                   27|                     1|                     0|                   1|                           1|                 1|                  1|                       1|                 1|                      0|                  0|        1718|      1628|           801|           827|                 0|            50|           76|           263|          1239|         1571|            1275|                 296|            57|            0|            58|            214|            310|            335|            242|            160|            137|              172|            1000|             72|            390|               48|                 5|             113|         1593|           35|                        6|   2111801|         105340|Campus Universit�...|\n",
      "|        2021| Centro-Oeste|            5| Distrito Federal|       DF|       53|        Bras�lia|         5300108|             1|    Distrito Federal|                 1|           Bras�lia|                  1|                       1|                          1|FUNDACAO UNIVERSI...|             2|     2|UNIVERSIDADE DE B...|         UNB|Campus Universit�...|                   s/n|                          -|           Asa Norte|  70910900|        3081|                            0|                             0|                          6|                          30|              64|              132|                349|                 263|                      785|                       702|                263|                 349|                  81|                   57|                     1|                     0|                   1|                           1|                 0|                  1|                       1|                 1|                  12438|             493150|        2942|      2639|          1174|          1465|                 0|             2|           21|           237|          2379|         2475|            2255|                 220|           164|            0|            38|            160|            323|            474|            431|            359|            375|              479|            1670|             82|            416|               57|                 8|             406|         2496|          143|                       10|   2111801|           4229|Campus Universit�...|\n",
      "|        2021|     Nordeste|            2|          Sergipe|       SE|       28|   S�o Crist�v�o|         2806701|             0|     Leste Sergipano|                 3|            Aracaju|                 11|                       1|                          1|FUNDACAO UNIVERSI...|             3|     3|UNIVERSIDADE FEDE...|         UFS|Avenida Marechal ...|                   s/n|                          -|    Jardim Rosa Elze|  49100000|         956|                            0|                             0|                          1|                           0|             146|              109|                171|                 151|                      137|                        89|                 83|                  51|                  13|                    5|                     1|                     0|                   1|                           1|                 1|                  1|                       1|                 1|                  40534|             316939|        1833|      1777|           851|           926|                 0|           113|            0|           272|          1392|         1569|            1404|                 165|           208|            0|            57|            163|            317|            354|            289|            233|            191|              173|             172|             35|            269|                9|                 2|            1290|         1747|           30|                        4|   2111801|        1006435|        Unidade SEDE|\n",
      "|        2021|        Norte|            1|         Amazonas|       AM|       13|          Manaus|         1302603|             1|   Centro Amazonense|                 3|             Manaus|                  7|                       1|                          1|FUNDACAO UNIVERSI...|             4|     4|UNIVERSIDADE FEDE...|        UFAM|  Av. Rodrigo Ot�vio|                  6200|       Campus Universit�rio|          Coroado II|  69077000|        1862|                            6|                             6|                          3|                          13|             120|              152|                317|                 282|                      409|                       263|                140|                 101|                  27|                   23|                     1|                     0|                   1|                           1|                 1|                  1|                       1|                 1|                  40191|               3683|        1981|      1824|           822|          1002|                 0|           111|          141|           436|          1136|         1730|            1349|                 381|            94|            0|            93|            200|            307|            317|            255|            228|            221|              203|             113|             16|            125|                6|                 4|            1560|         1821|            3|                        2|   2111801|        1036292|        Unidade Sede|\n",
      "|        2021|     Nordeste|            2|            Piau�|       PI|       22|        Teresina|         2211001|             1|Centro-Norte Piau...|                 2|           Teresina|                  3|                       1|                          1|FUNDACAO UNIVERSI...|         14054|     5|UNIVERSIDADE FEDE...|        UFPI|Campus Universit�...|                   s/n|                    SG - 07|              Ininga|  64049550|        1041|                            3|                            18|                          2|                          20|              26|               77|                 90|                 111|                      229|                       206|                120|                  83|                  26|                   30|                     1|                     0|                   0|                           1|                 0|                  1|                       1|                 1|                      0|                  0|        1577|      1470|           709|           761|                 0|             0|           76|           286|          1108|         1372|            1182|                 190|            98|            0|            27|            156|            280|            286|            197|            149|            149|              226|             110|             42|            204|                0|                 2|            1112|         1470|            0|                        0|   2111801|         102559|CAMPUS MINISTRO P...|\n",
      "|        2021|      Sudeste|            3|     Minas Gerais|       MG|       31|      Ouro Preto|         3146107|             0|Metropolitana de ...|                 7|         Ouro Preto|                 33|                       1|                          1|UNIVERSIDADE FEDE...|             6|     6|UNIVERSIDADE FEDE...|        UFOP|Rua Diogo de Vasc...|                   122|                          -|              Centro|  35400000|         715|                            4|                            23|                          3|                          14|              23|               56|                 42|                  84|                       93|                       121|                115|                  88|                  29|                   20|                     1|                     0|                   1|                           1|                 0|                  0|                       0|                 1|                      0|              28762|         928|       846|           332|           514|                 0|             2|           16|            82|           746|          839|             790|                  49|             7|            0|             3|             67|            194|            199|            117|             97|             93|               76|             402|             25|            146|                4|                 1|             268|          844|            2|                        3|   2111801|            664|            Reitoria|\n",
      "|        2021|      Sudeste|            3|        S�o Paulo|       SP|       35|      S�o Carlos|         3548906|             0|          Araraquara|                 5|         S�o Carlos|                 25|                       1|                          1|FUNDACAO UNIVERSI...|          1302|     7|UNIVERSIDADE FEDE...|      UFSCAR|Via Washington  Luis|                Km 235|                       S/N�|          Monjolinho|  13565905|         968|                           17|                            22|                          9|                          12|               9|               48|                 79|                 106|                      164|                       152|                139|                 103|                  61|                   47|                     1|                     0|                   0|                           1|                 0|                  1|                       1|                 1|                  23596|              20419|        1339|      1339|           602|           737|                 0|             1|            3|            50|          1285|         1284|            1258|                  26|            55|            0|             3|             60|            199|            282|            212|            197|            172|              214|             767|             13|             69|               27|                 2|             461|         1310|           29|                        8|   2111801|        1006610|        Unidade SEDE|\n",
      "|        2021|      Sudeste|            3|     Minas Gerais|       MG|       31|          Vi�osa|         3171303|             0|        Zona da Mata|                12|             Vi�osa|                 62|                       1|                          1|UNIVERSIDADE FEDE...|         15588|     8|UNIVERSIDADE FEDE...|         UFV|      Av. P.H. Rolfs|                   s/n|       Campus Universit�rio|Campus Universit�rio|  36570000|        2001|                            7|                           111|                          1|                          29|              23|              307|                 73|                 160|                      319|                       492|                185|                 178|                  69|                   47|                     1|                     0|                   1|                           1|                 0|                  1|                       0|                 1|                      0|              79733|        1292|      1292|           518|           774|                 0|            17|           24|           128|          1123|         1251|            1159|                  92|            41|            0|            32|            130|            238|            285|            154|            122|            176|              155|             398|             24|             96|                4|                 0|             770|         1267|           25|                        0|   2111801|        1005394|Universidade Fede...|\n",
      "|        2021|          Sul|            4|           Paran�|       PR|       41|        Londrina|         4113700|             0|Norte Central Par...|                 3|           Londrina|                 11|                       1|                          2|SECRET DE EST CIE...|            37|     9|UNIVERSIDADE ESTA...|         UEL|Rodovia Celso Gar...|                     -|       UEL - CAMPUS UNIV...|Campus Universit�rio|  86057970|         756|                            0|                             5|                          1|                           5|              57|               68|                149|                 169|                      124|                        86|                 29|                  39|                   8|                   16|                     1|                     0|                   1|                           1|                 0|                  1|                       1|                 1|                      0|               2568|        1820|      1792|           932|           860|                 0|            17|           65|           359|          1351|         1325|             970|                 355|           462|            5|            48|            185|            266|            272|            244|            267|            262|              248|            1458|             24|            132|               87|                 2|              89|         1775|           17|                       55|   2111801|         657675|UEL - CAMPUS UNIV...|\n",
      "|        2021|          Sul|            4|           Paran�|       PR|       41|        Curitiba|         4106902|             1|Metropolitana de ...|                10|           Curitiba|                 37|                       1|                          5|ASSOCIACAO PARANA...|            10|    10|PONTIF�CIA UNIVER...|       PUCPR|Rua Imaculada Con...|                  1155|                          -|         Prado Velho|  80215901|        1548|                            0|                             0|                         45|                          41|             276|              204|                410|                 194|                      157|                        99|                 30|                  28|                  30|                   34|                     1|                     0|                   1|                           1|                 0|                  1|                       1|                 1|                  55040|              25036|        1349|      1349|           575|           774|                 0|             1|           59|           582|           707|          448|               0|                 448|           655|          246|            31|            120|            191|            229|            229|            212|            151|              186|             680|             15|             40|               28|                 1|             585|         1343|            6|                       11|   2111801|         657676|PUCPR - Campus Cu...|\n",
      "|        2021|     Nordeste|            2|       Pernambuco|       PE|       26|          Recife|         2611606|             1|Metropolitana de ...|                 5|             Recife|                 17|                       1|                          5|ASSOCIACAO ANTONI...|            14|    11|UNIVERSIDADE CAT�...|      UNICAP|     Rua do Pr�ncipe|                   526|       Campus Universit�...|           Boa Vista|  50050900|         406|                            1|                             8|                          0|                           8|              46|               75|                 96|                  70|                       43|                        34|                  7|                  16|                   1|                    1|                     1|                     0|                   0|                           0|                 0|                  1|                       1|                 1|                    174|              13734|         517|       510|           232|           278|                 0|             0|           39|           200|           271|          172|               0|                 172|           123|          215|             7|             49|             65|             60|             75|             63|             69|              122|             348|             18|            142|                0|                 0|               2|          507|            3|                        1|   2111801|         657677|        POLO NA SEDE|\n",
      "|        2021|          Sul|            4|Rio Grande do Sul|       RS|       43|      Rio Grande|         4315602|             0|Sudeste Rio-grand...|                 7|    Litoral Lagunar|                 35|                       1|                          1|UNIVERSIDADE FEDE...|         15596|    12|UNIVERSIDADE FEDE...|        FURG|      Avenida It�lia|                   S/N|                       Km 8|           Carreiros|  96203900|        1151|                            0|                            13|                          2|                           5|              57|               80|                 96|                 105|                      241|                       142|                174|                 106|                  92|                   38|                     1|                     0|                   1|                           1|                 0|                  1|                       1|                 1|                  49331|              91349|         986|       970|           479|           491|                 0|             6|           13|           128|           823|          948|             816|                 132|            22|            0|            20|             72|            183|            212|            148|            124|            101|              110|             796|             21|             69|                7|                 5|              72|          935|           35|                        9|   2111801|        1045632|CAMPUS CARREIROS ...|\n",
      "|        2021|          Sul|            4|Rio Grande do Sul|       RS|       43|   Caxias do Sul|         4305108|             0|Nordeste Rio-gran...|                 2|      Caxias do Sul|                 16|                       1|                          5|FUNDACAO UNIVERSI...|            13|    13|UNIVERSIDADE DE C...|         UCS|Rua Francisco Get...|                  1130|                    Bloco A|          Petr�polis|  95070560|         920|                            8|                            17|                         13|                          14|             224|              184|                219|                  77|                       96|                        29|                 20|                  11|                   6|                    2|                     1|                     0|                   1|                           1|                 1|                  1|                       1|                 1|                      0|              13000|         796|       788|           409|           379|                 0|             0|           94|           369|           325|          266|               1|                 265|           265|          257|             8|             65|            109|            137|            135|            121|             95|              118|             747|              2|              7|                0|                 0|              32|          788|            0|                       10|   2111801|        1003692|         CAMPUS SEDE|\n",
      "|        2021|          Sul|            4|Rio Grande do Sul|       RS|       43|    S�o Leopoldo|         4318705|             0|Metropolitana de ...|                 5|       Porto Alegre|                 26|                       1|                          5|ASSOCIACAO ANTONI...|            14|    14|UNIVERSIDADE DO V...|    UNISINOS|    Avenida Unisinos|                   950|                          -|          Cristo Rei|  93022750|         895|                            1|                             1|                          1|                           2|             250|              260|                149|                  70|                       65|                        27|                 23|                  30|                   7|                    9|                     1|                     0|                   1|                           1|                 0|                  1|                       0|                 1|                  32353|              25796|         917|       902|           431|           471|                 0|             0|           36|           329|           537|          299|               3|                 296|           460|          143|             8|             79|            128|            210|            139|            115|             96|              127|             870|             11|             13|                1|                 0|               7|          876|           26|                        5|   2111801|         657678|        Unidade SEDE|\n",
      "|        2021|      Sudeste|            3|   Rio de Janeiro|       RJ|       33|      Petr�polis|         3303906|             0|Metropolitana do ...|                 6|            Serrana|                 15|                       1|                          5|ASSOCIACAO FACULD...|         15046|    15|UNIVERSIDADE CAT�...|         UCP|Rua Benjamin Cons...|                   213|                          -|              Centro|  25610130|         227|                            3|                            23|                          7|                          21|              54|               55|                 28|                  22|                        6|                         3|                  3|                   2|                   0|                    0|                     1|                     0|                   0|                           0|                 1|                  1|                       0|                 1|                      0|              24062|         165|       165|            63|           102|                 0|             1|            4|            93|            67|           57|               0|                  57|            47|           61|             0|             10|             26|             32|             25|             19|             23|               30|             138|              3|             14|                0|                 0|              10|          162|            3|                        3|   2111801|         657679|        Unidade SEDE|\n",
      "|        2021|      Sudeste|            3|     Minas Gerais|       MG|       31|      Uberl�ndia|         3170206|             0|Tri�ngulo Mineiro...|                 5|         Uberl�ndia|                 18|                       1|                          1|UNIVERSIDADE FEDE...|          9140|    17|UNIVERSIDADE FEDE...|         UFU|Avenida Jo�o Nave...|                  2121|                          -|        Santa M�nica|  38400902|        1918|                            6|                            39|                          6|                          17|             207|              190|                131|                 146|                      348|                       313|                211|                 162|                  88|                   54|                     1|                     0|                   1|                           1|                 1|                  1|                       1|                 1|                    263|             229074|        1897|      1859|           808|          1051|                 0|            10|           21|           126|          1702|         1836|            1679|                 157|            23|            0|            25|            128|            322|            397|            339|            244|            210|              194|            1451|             44|            216|               38|                 1|             109|         1830|           29|                       12|   2111801|        1005524|Campus Santa M�ni...|\n",
      "|        2021|          Sul|            4|Rio Grande do Sul|       RS|       43|         Pelotas|         4314407|             0|Sudeste Rio-grand...|                 7|            Pelotas|                 33|                       1|                          5|ASSOCIACAO PELOTE...|            18|    18|UNIVERSIDADE CAT�...|       UCPEL|  Rua F�lix da Cunha|                   412|                          -|              Centro|  96010000|         265|                            2|                             3|                          1|                           2|              31|               25|                 80|                  42|                       38|                        19|                 12|                   3|                   5|                    2|                     1|                     0|                   0|                           1|                 0|                  1|                       0|                 1|                     42|              11000|         326|       326|           183|           143|                 0|             1|          120|           106|            99|          103|               0|                 103|           172|           51|            11|             61|             70|             52|             36|             26|             26|               44|             322|              1|              3|                0|                 0|               0|          324|            2|                        0|   2111801|            608|               UCPel|\n",
      "|        2021|      Sudeste|            3|        S�o Paulo|       SP|       35|        Campinas|         3509502|             0|            Campinas|                 7|           Campinas|                 32|                       1|                          5|SOCIEDADE CAMPINE...|            19|    19|PONTIF�CIA UNIVER...|PUC-CAMPINAS|Rua Professor Dou...|                  1516|       Gleba 1 - QT. 064...|Parque Rural Faze...|  13087571|         644|                            5|                             7|                          7|                           7|             144|              124|                183|                  99|                       40|                        16|                  2|                   8|                   1|                    1|                     1|                     0|                   1|                           1|                 1|                  1|                       1|                 1|                  10762|                399|         753|       741|           352|           389|                 0|             0|          104|           219|           418|          251|               0|                 251|           145|          345|             7|             39|             79|            116|             97|            112|             86|              205|             285|              3|             14|                7|                 1|             431|          731|           10|                        2|   2111801|         657681|        Unidade SEDE|\n",
      "|        2021|          Sul|            4|Rio Grande do Sul|       RS|       43|     Passo Fundo|         4314100|             0|Noroeste Rio-gran...|                 1|        Passo Fundo|                 10|                       1|                          5|FUNDACAO UNIVERSI...|            20|    20|UNIVERSIDADE DE P...|         UPF|Upf Campus Passo ...|                  s/n�|            BR 285 - KM 171|            S�o Jos�|  99001970|         854|                           22|                            17|                         33|                          11|             208|              178|                114|                  86|                      109|                        44|                 20|                   9|                   0|                    3|                     1|                     0|                   1|                           1|                 0|                  1|                       1|                 1|                     30|             235000|         717|       690|           328|           362|                 0|             0|          121|           276|           293|          243|               0|                 243|           246|          201|            12|             76|            109|            112|            123|             95|             91|               72|             683|              1|              3|                0|                 0|               3|          682|            8|                        9|   2111801|         657682|        UPF Campus I|\n",
      "|        2021|          Sul|            4|Rio Grande do Sul|       RS|       43|    Porto Alegre|         4314902|             1|Metropolitana de ...|                 5|       Porto Alegre|                 26|                       1|                          5|UNIAO BRASILEIRA ...|            21|    21|PONTIF�CIA UNIVER...|       PUCRS|        Av. Ipiranga|                  6681|                          -|            Partenon|  90619900|        1824|                           18|                            48|                         55|                          66|             335|              571|                258|                 235|                       93|                        55|                 30|                  25|                  18|                   17|                     1|                     0|                   1|                           1|                 1|                  1|                       1|                 1|                     19|             604969|         905|       905|           355|           550|                 0|             0|           19|           216|           670|          359|              99|                 260|           352|          194|             1|             42|             93|            133|            153|            130|            143|              210|             875|              6|             12|                3|                 0|               9|          895|           10|                        7|   2111801|        1006454|CENTRAL - PORTO A...|\n",
      "+------------+-------------+-------------+-----------------+---------+---------+----------------+----------------+--------------+--------------------+------------------+-------------------+-------------------+------------------------+---------------------------+--------------------+--------------+------+--------------------+------------+--------------------+----------------------+---------------------------+--------------------+----------+------------+-----------------------------+------------------------------+---------------------------+----------------------------+----------------+-----------------+-------------------+--------------------+-------------------------+--------------------------+-------------------+--------------------+--------------------+---------------------+----------------------+----------------------+--------------------+----------------------------+------------------+-------------------+------------------------+------------------+-----------------------+-------------------+------------+----------+--------------+--------------+------------------+--------------+-------------+--------------+--------------+-------------+----------------+--------------------+--------------+-------------+--------------+---------------+---------------+---------------+---------------+---------------+---------------+-----------------+----------------+---------------+---------------+-----------------+------------------+----------------+-------------+-------------+-------------------------+----------+---------------+--------------------+\n",
      "only showing top 20 rows\n",
      "\n"
     ]
    }
   ],
   "source": [
    "df.show()"
   ]
  },
  {
   "cell_type": "code",
   "execution_count": null,
   "id": "c1d8aced-3d72-48c0-8610-ce90cbf268ab",
   "metadata": {
    "tags": []
   },
   "outputs": [],
   "source": [
    "df.createOrReplaceTempView(\"questao1\")\n",
    "#Primeira questão\n",
    "df1= spark.sql(\"\"\"\n",
    "  SELECT COUNT(DISTINCT no_municipio_ies) AS numero_de_municipios_MG FROM questao1\n",
    "                WHERE sg_uf_ies ='MG'\n",
    "                \"\"\")\n"
   ]
  },
  {
   "cell_type": "code",
   "execution_count": 12,
   "id": "ad03cb83-b07d-4188-b8b2-d7cb5f32610d",
   "metadata": {
    "tags": []
   },
   "outputs": [
    {
     "name": "stdout",
     "output_type": "stream",
     "text": [
      "+-----------------------+\n",
      "|numero_de_municipios_MG|\n",
      "+-----------------------+\n",
      "|                    104|\n",
      "+-----------------------+\n",
      "\n"
     ]
    }
   ],
   "source": [
    "df1.show()"
   ]
  },
  {
   "cell_type": "code",
   "execution_count": 13,
   "id": "61a65c5d-5f08-4719-bc70-40b0cd69e29e",
   "metadata": {
    "tags": []
   },
   "outputs": [
    {
     "name": "stdout",
     "output_type": "stream",
     "text": [
      "+-----------------------+\n",
      "|numero_de_municipios_MG|\n",
      "+-----------------------+\n",
      "|                    104|\n",
      "+-----------------------+\n",
      "\n"
     ]
    }
   ],
   "source": [
    "df.createOrReplaceTempView(\"questao2\")\n",
    "df2= spark.sql(\"\"\"\n",
    "  SELECT COUNT(DISTINCT no_municipio_ies) AS numero_de_municipios_MG FROM questao2\n",
    "                WHERE sg_uf_ies ='MG'\n",
    "                \"\"\")\n",
    "\n",
    "df2.show()"
   ]
  },
  {
   "cell_type": "code",
   "execution_count": 14,
   "id": "094fefef-5133-432c-bbe3-b220bc2e4a1c",
   "metadata": {
    "tags": []
   },
   "outputs": [
    {
     "name": "stdout",
     "output_type": "stream",
     "text": [
      "+---------------+---------------+\n",
      "| nome_municipio|numero_doutores|\n",
      "+---------------+---------------+\n",
      "|        Aimor�s|              5|\n",
      "|        Alfenas|            661|\n",
      "|       Almenara|              4|\n",
      "|   Al�m Para�ba|             10|\n",
      "|       Araguari|             55|\n",
      "|          Arax�|             24|\n",
      "|       Baependi|              1|\n",
      "|      Barbacena|             70|\n",
      "|Bar�o de Cocais|              0|\n",
      "| Belo Horizonte|           6615|\n",
      "|     Bert�polis|              2|\n",
      "|          Betim|            192|\n",
      "|  Boa Esperan�a|              1|\n",
      "|   Bom Despacho|            129|\n",
      "|     Brumadinho|              3|\n",
      "|     Cambuquira|              3|\n",
      "|     Campo Belo|              8|\n",
      "|  Campos Gerais|              8|\n",
      "|      Capelinha|              1|\n",
      "|      Carangola|              6|\n",
      "+---------------+---------------+\n",
      "only showing top 20 rows\n",
      "\n"
     ]
    }
   ],
   "source": [
    "df.createOrReplaceTempView(\"questao3\")\n",
    "df3= spark.sql(\"\"\"\n",
    "  SELECT no_municipio_ies AS nome_municipio, SUM(qt_doc_ex_dout) AS numero_doutores FROM questao3\n",
    "                WHERE sg_uf_ies ='MG'\n",
    "                GROUP BY no_municipio_ies\n",
    "                ORDER BY no_municipio_ies\n",
    "                \"\"\")\n",
    "\n",
    "df3.show()"
   ]
  },
  {
   "cell_type": "code",
   "execution_count": 18,
   "id": "310634f4-a987-47b9-8e44-bc55c0ff799d",
   "metadata": {
    "tags": []
   },
   "outputs": [
    {
     "ename": "AnalysisException",
     "evalue": "[PATH_ALREADY_EXISTS] Path file:/home/jovyan/primeira_questao1 already exists. Set mode as \"overwrite\" to overwrite the existing path.",
     "output_type": "error",
     "traceback": [
      "\u001b[0;31m---------------------------------------------------------------------------\u001b[0m",
      "\u001b[0;31mAnalysisException\u001b[0m                         Traceback (most recent call last)",
      "Cell \u001b[0;32mIn[18], line 1\u001b[0m\n\u001b[0;32m----> 1\u001b[0m \u001b[43mdf1\u001b[49m\u001b[38;5;241;43m.\u001b[39;49m\u001b[43mwrite\u001b[49m\u001b[38;5;241;43m.\u001b[39;49m\u001b[43mparquet\u001b[49m\u001b[43m(\u001b[49m\u001b[38;5;124;43m\"\u001b[39;49m\u001b[38;5;124;43mprimeira_questao1\u001b[39;49m\u001b[38;5;124;43m\"\u001b[39;49m\u001b[43m)\u001b[49m\n\u001b[1;32m      2\u001b[0m df2\u001b[38;5;241m.\u001b[39mwrite\u001b[38;5;241m.\u001b[39mparquet(\u001b[38;5;124m\"\u001b[39m\u001b[38;5;124msegunda_questao2\u001b[39m\u001b[38;5;124m\"\u001b[39m)\n\u001b[1;32m      3\u001b[0m df3\u001b[38;5;241m.\u001b[39mwrite\u001b[38;5;241m.\u001b[39mparquet(\u001b[38;5;124m\"\u001b[39m\u001b[38;5;124mterceira_questao3\u001b[39m\u001b[38;5;124m\"\u001b[39m)\n",
      "File \u001b[0;32m/usr/local/spark/python/pyspark/sql/readwriter.py:1656\u001b[0m, in \u001b[0;36mDataFrameWriter.parquet\u001b[0;34m(self, path, mode, partitionBy, compression)\u001b[0m\n\u001b[1;32m   1654\u001b[0m     \u001b[38;5;28mself\u001b[39m\u001b[38;5;241m.\u001b[39mpartitionBy(partitionBy)\n\u001b[1;32m   1655\u001b[0m \u001b[38;5;28mself\u001b[39m\u001b[38;5;241m.\u001b[39m_set_opts(compression\u001b[38;5;241m=\u001b[39mcompression)\n\u001b[0;32m-> 1656\u001b[0m \u001b[38;5;28;43mself\u001b[39;49m\u001b[38;5;241;43m.\u001b[39;49m\u001b[43m_jwrite\u001b[49m\u001b[38;5;241;43m.\u001b[39;49m\u001b[43mparquet\u001b[49m\u001b[43m(\u001b[49m\u001b[43mpath\u001b[49m\u001b[43m)\u001b[49m\n",
      "File \u001b[0;32m/usr/local/spark/python/lib/py4j-0.10.9.7-src.zip/py4j/java_gateway.py:1322\u001b[0m, in \u001b[0;36mJavaMember.__call__\u001b[0;34m(self, *args)\u001b[0m\n\u001b[1;32m   1316\u001b[0m command \u001b[38;5;241m=\u001b[39m proto\u001b[38;5;241m.\u001b[39mCALL_COMMAND_NAME \u001b[38;5;241m+\u001b[39m\\\n\u001b[1;32m   1317\u001b[0m     \u001b[38;5;28mself\u001b[39m\u001b[38;5;241m.\u001b[39mcommand_header \u001b[38;5;241m+\u001b[39m\\\n\u001b[1;32m   1318\u001b[0m     args_command \u001b[38;5;241m+\u001b[39m\\\n\u001b[1;32m   1319\u001b[0m     proto\u001b[38;5;241m.\u001b[39mEND_COMMAND_PART\n\u001b[1;32m   1321\u001b[0m answer \u001b[38;5;241m=\u001b[39m \u001b[38;5;28mself\u001b[39m\u001b[38;5;241m.\u001b[39mgateway_client\u001b[38;5;241m.\u001b[39msend_command(command)\n\u001b[0;32m-> 1322\u001b[0m return_value \u001b[38;5;241m=\u001b[39m \u001b[43mget_return_value\u001b[49m\u001b[43m(\u001b[49m\n\u001b[1;32m   1323\u001b[0m \u001b[43m    \u001b[49m\u001b[43manswer\u001b[49m\u001b[43m,\u001b[49m\u001b[43m \u001b[49m\u001b[38;5;28;43mself\u001b[39;49m\u001b[38;5;241;43m.\u001b[39;49m\u001b[43mgateway_client\u001b[49m\u001b[43m,\u001b[49m\u001b[43m \u001b[49m\u001b[38;5;28;43mself\u001b[39;49m\u001b[38;5;241;43m.\u001b[39;49m\u001b[43mtarget_id\u001b[49m\u001b[43m,\u001b[49m\u001b[43m \u001b[49m\u001b[38;5;28;43mself\u001b[39;49m\u001b[38;5;241;43m.\u001b[39;49m\u001b[43mname\u001b[49m\u001b[43m)\u001b[49m\n\u001b[1;32m   1325\u001b[0m \u001b[38;5;28;01mfor\u001b[39;00m temp_arg \u001b[38;5;129;01min\u001b[39;00m temp_args:\n\u001b[1;32m   1326\u001b[0m     \u001b[38;5;28;01mif\u001b[39;00m \u001b[38;5;28mhasattr\u001b[39m(temp_arg, \u001b[38;5;124m\"\u001b[39m\u001b[38;5;124m_detach\u001b[39m\u001b[38;5;124m\"\u001b[39m):\n",
      "File \u001b[0;32m/usr/local/spark/python/pyspark/errors/exceptions/captured.py:175\u001b[0m, in \u001b[0;36mcapture_sql_exception.<locals>.deco\u001b[0;34m(*a, **kw)\u001b[0m\n\u001b[1;32m    171\u001b[0m converted \u001b[38;5;241m=\u001b[39m convert_exception(e\u001b[38;5;241m.\u001b[39mjava_exception)\n\u001b[1;32m    172\u001b[0m \u001b[38;5;28;01mif\u001b[39;00m \u001b[38;5;129;01mnot\u001b[39;00m \u001b[38;5;28misinstance\u001b[39m(converted, UnknownException):\n\u001b[1;32m    173\u001b[0m     \u001b[38;5;66;03m# Hide where the exception came from that shows a non-Pythonic\u001b[39;00m\n\u001b[1;32m    174\u001b[0m     \u001b[38;5;66;03m# JVM exception message.\u001b[39;00m\n\u001b[0;32m--> 175\u001b[0m     \u001b[38;5;28;01mraise\u001b[39;00m converted \u001b[38;5;28;01mfrom\u001b[39;00m \u001b[38;5;28;01mNone\u001b[39;00m\n\u001b[1;32m    176\u001b[0m \u001b[38;5;28;01melse\u001b[39;00m:\n\u001b[1;32m    177\u001b[0m     \u001b[38;5;28;01mraise\u001b[39;00m\n",
      "\u001b[0;31mAnalysisException\u001b[0m: [PATH_ALREADY_EXISTS] Path file:/home/jovyan/primeira_questao1 already exists. Set mode as \"overwrite\" to overwrite the existing path."
     ]
    }
   ],
   "source": [
    "df1.write.parquet(\"primeira_questao1\")\n",
    "df2.write.parquet(\"segunda_questao2\")\n",
    "df3.write.parquet(\"terceira_questao3\")\n"
   ]
  }
 ],
 "metadata": {
  "kernelspec": {
   "display_name": "Python 3 (ipykernel)",
   "language": "python",
   "name": "python3"
  },
  "language_info": {
   "codemirror_mode": {
    "name": "ipython",
    "version": 3
   },
   "file_extension": ".py",
   "mimetype": "text/x-python",
   "name": "python",
   "nbconvert_exporter": "python",
   "pygments_lexer": "ipython3",
   "version": "3.10.10"
  }
 },
 "nbformat": 4,
 "nbformat_minor": 5
}
